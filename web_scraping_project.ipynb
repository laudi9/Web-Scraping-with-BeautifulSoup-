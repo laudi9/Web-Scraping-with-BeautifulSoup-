{
 "cells": [
  {
   "cell_type": "code",
   "execution_count": null,
   "id": "913ada94-1a14-4f65-a751-b3c971a2121d",
   "metadata": {},
   "outputs": [],
   "source": [
    "# Import necessary libraries\n",
    "from bs4 import BeautifulSoup\n",
    "import requests\n",
    "import time\n",
    "\n",
    "# Prompt user to input an unfamiliar skill\n",
    "print('Input a skill you are unfamiliar with')\n",
    "unfamiliar_skill = input('>')\n",
    "\n",
    "# Inform the user about the skill being filtered\n",
    "print(f'Filtering out {unfamiliar_skill}')\n",
    "\n",
    "# Function to find and save relevant job postings\n",
    "def find_jobs():\n",
    "    # Fetch the HTML content from the TimesJobs website\n",
    "    html_text = requests.get('https://www.timesjobs.com/candidate/job-search.html?searchType=personalizedSearch&from=submit&txtKeywords=python&txtLocation=').text\n",
    "    \n",
    "    # Create a BeautifulSoup object to parse the HTML content\n",
    "    soup = BeautifulSoup(html_text, 'lxml')\n",
    "    \n",
    "    # Find all job listings on the page\n",
    "    jobs = soup.find_all('li', class_='clearfix job-bx wht-shd-bx')\n",
    "    \n",
    "    # Iterate through each job listing\n",
    "    for index, job in enumerate(jobs):\n",
    "        # Extract the published date of the job posting\n",
    "        published_date = job.find('span', class_='sim-posted').span.text\n",
    "        \n",
    "        # Check if the job was posted recently (contains the word 'few')\n",
    "        if 'few' in published_date:\n",
    "            # Extract company name, skills required, and more information link\n",
    "            company_name = job.find('h3', class_='joblist-comp-name').text.replace(' ', '')\n",
    "            skills = job.find('span', class_='srp-skills').text.replace(' ', '')\n",
    "            more_info = job.header.h2.a['href']\n",
    "            \n",
    "            # Check if the unfamiliar skill is not listed as a requirement\n",
    "            if unfamiliar_skill not in skills:\n",
    "                # Create a text file and write job details to it\n",
    "                with open(f'posts/{index}.txt', 'w') as f:\n",
    "                    f.write(f'Company Name: {company_name.strip()} \\n')\n",
    "                    f.write(f'Skills Required: {skills.strip()} \\n')\n",
    "                    f.write(f'More Info: {more_info}')\n",
    "                # Print a message indicating the file has been saved\n",
    "                print(f'File saved: {index}')\n",
    "\n",
    "# Main program execution\n",
    "if __name__ == '__main__':\n",
    "    # Run the job search and saving process indefinitely\n",
    "    while True:\n",
    "        find_jobs()\n",
    "        # Set the time interval to wait (in minutes)\n",
    "        time_wait = 10\n",
    "        # Inform the user about the wait and sleep for the specified interval\n",
    "        print(f'Waiting {time_wait} minutes...')\n",
    "        time.sleep(time_wait * 60)"
   ]
  }
 ],
 "metadata": {
  "kernelspec": {
   "display_name": "Python 3 (ipykernel)",
   "language": "python",
   "name": "python3"
  },
  "language_info": {
   "codemirror_mode": {
    "name": "ipython",
    "version": 3
   },
   "file_extension": ".py",
   "mimetype": "text/x-python",
   "name": "python",
   "nbconvert_exporter": "python",
   "pygments_lexer": "ipython3",
   "version": "3.11.4"
  }
 },
 "nbformat": 4,
 "nbformat_minor": 5
}
